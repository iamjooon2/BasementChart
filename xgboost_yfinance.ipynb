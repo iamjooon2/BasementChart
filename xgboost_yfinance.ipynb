{
 "cells": [
  {
   "cell_type": "code",
   "execution_count": 1,
   "id": "143dbe1a",
   "metadata": {},
   "outputs": [],
   "source": [
    "import numpy as np\n",
    "import pandas as pd\n",
    "import matplotlib.pyplot as plt\n",
    "import yfinance as yf\n",
    "from pandas_datareader import data as pdr\n",
    "from sklearn.metrics import mean_absolute_error"
   ]
  },
  {
   "cell_type": "code",
   "execution_count": 2,
   "id": "6b04ffc1",
   "metadata": {},
   "outputs": [],
   "source": [
    "yf.pdr_override()"
   ]
  },
  {
   "cell_type": "code",
   "execution_count": 3,
   "id": "bb91e6b8",
   "metadata": {
    "scrolled": false
   },
   "outputs": [
    {
     "name": "stdout",
     "output_type": "stream",
     "text": [
      "[*********************100%***********************]  1 of 1 completed\n"
     ]
    },
    {
     "data": {
      "text/html": [
       "<div>\n",
       "<style scoped>\n",
       "    .dataframe tbody tr th:only-of-type {\n",
       "        vertical-align: middle;\n",
       "    }\n",
       "\n",
       "    .dataframe tbody tr th {\n",
       "        vertical-align: top;\n",
       "    }\n",
       "\n",
       "    .dataframe thead th {\n",
       "        text-align: right;\n",
       "    }\n",
       "</style>\n",
       "<table border=\"1\" class=\"dataframe\">\n",
       "  <thead>\n",
       "    <tr style=\"text-align: right;\">\n",
       "      <th></th>\n",
       "      <th>Open</th>\n",
       "      <th>High</th>\n",
       "      <th>Low</th>\n",
       "      <th>Close</th>\n",
       "      <th>Adj Close</th>\n",
       "      <th>Volume</th>\n",
       "    </tr>\n",
       "    <tr>\n",
       "      <th>Date</th>\n",
       "      <th></th>\n",
       "      <th></th>\n",
       "      <th></th>\n",
       "      <th></th>\n",
       "      <th></th>\n",
       "      <th></th>\n",
       "    </tr>\n",
       "  </thead>\n",
       "  <tbody>\n",
       "    <tr>\n",
       "      <th>2022-11-01 00:00:00-04:00</th>\n",
       "      <td>155.080002</td>\n",
       "      <td>155.449997</td>\n",
       "      <td>149.130005</td>\n",
       "      <td>150.649994</td>\n",
       "      <td>150.400497</td>\n",
       "      <td>80379300</td>\n",
       "    </tr>\n",
       "    <tr>\n",
       "      <th>2022-11-02 00:00:00-04:00</th>\n",
       "      <td>148.949997</td>\n",
       "      <td>152.169998</td>\n",
       "      <td>145.000000</td>\n",
       "      <td>145.029999</td>\n",
       "      <td>144.789810</td>\n",
       "      <td>93604600</td>\n",
       "    </tr>\n",
       "    <tr>\n",
       "      <th>2022-11-03 00:00:00-04:00</th>\n",
       "      <td>142.059998</td>\n",
       "      <td>142.800003</td>\n",
       "      <td>138.750000</td>\n",
       "      <td>138.880005</td>\n",
       "      <td>138.650009</td>\n",
       "      <td>97918500</td>\n",
       "    </tr>\n",
       "    <tr>\n",
       "      <th>2022-11-04 00:00:00-04:00</th>\n",
       "      <td>142.089996</td>\n",
       "      <td>142.669998</td>\n",
       "      <td>134.380005</td>\n",
       "      <td>138.380005</td>\n",
       "      <td>138.380005</td>\n",
       "      <td>140716700</td>\n",
       "    </tr>\n",
       "    <tr>\n",
       "      <th>2022-11-07 00:00:00-05:00</th>\n",
       "      <td>137.110001</td>\n",
       "      <td>139.149994</td>\n",
       "      <td>135.669998</td>\n",
       "      <td>138.919998</td>\n",
       "      <td>138.919998</td>\n",
       "      <td>83374600</td>\n",
       "    </tr>\n",
       "  </tbody>\n",
       "</table>\n",
       "</div>"
      ],
      "text/plain": [
       "                                 Open        High         Low       Close  \\\n",
       "Date                                                                        \n",
       "2022-11-01 00:00:00-04:00  155.080002  155.449997  149.130005  150.649994   \n",
       "2022-11-02 00:00:00-04:00  148.949997  152.169998  145.000000  145.029999   \n",
       "2022-11-03 00:00:00-04:00  142.059998  142.800003  138.750000  138.880005   \n",
       "2022-11-04 00:00:00-04:00  142.089996  142.669998  134.380005  138.380005   \n",
       "2022-11-07 00:00:00-05:00  137.110001  139.149994  135.669998  138.919998   \n",
       "\n",
       "                            Adj Close     Volume  \n",
       "Date                                              \n",
       "2022-11-01 00:00:00-04:00  150.400497   80379300  \n",
       "2022-11-02 00:00:00-04:00  144.789810   93604600  \n",
       "2022-11-03 00:00:00-04:00  138.650009   97918500  \n",
       "2022-11-04 00:00:00-04:00  138.380005  140716700  \n",
       "2022-11-07 00:00:00-05:00  138.919998   83374600  "
      ]
     },
     "execution_count": 3,
     "metadata": {},
     "output_type": "execute_result"
    }
   ],
   "source": [
    "data=pdr.get_data_yahoo(\"AAPL\", start=\"2022-11-1\", end=\"2022-11-15\")\n",
    "data.head()"
   ]
  },
  {
   "cell_type": "code",
   "execution_count": 4,
   "id": "4bb21402",
   "metadata": {},
   "outputs": [],
   "source": [
    "Op=np.array(data[\"Open\"])\n",
    "Hi=np.array(data[\"High\"])\n",
    "Lo=np.array(data[\"Low\"])\n",
    "Cl=np.array(data[\"Close\"])\n",
    "Adj=np.array(data[\"Adj Close\"])\n",
    "V=np.array(data[\"Volume\"])\n"
   ]
  },
  {
   "cell_type": "code",
   "execution_count": 5,
   "id": "a6a29a1e",
   "metadata": {},
   "outputs": [],
   "source": [
    "input = np.column_stack((Op,Hi,Lo,V))\n",
    "output = Adj"
   ]
  },
  {
   "cell_type": "code",
   "execution_count": 7,
   "id": "9d222c9a",
   "metadata": {},
   "outputs": [],
   "source": [
    "from sklearn.model_selection import train_test_split\n",
    "X_train,X_test,y_train,y_test=train_test_split(input,output, test_size=0.3)"
   ]
  },
  {
   "cell_type": "code",
   "execution_count": 8,
   "id": "6b159ab1",
   "metadata": {},
   "outputs": [],
   "source": [
    "from xgboost import XGBClassifier, plot_importance, XGBRegressor"
   ]
  },
  {
   "cell_type": "code",
   "execution_count": 9,
   "id": "ff5a8539",
   "metadata": {},
   "outputs": [],
   "source": [
    "XGBR=XGBRegressor(objective='reg:squarederror', n_estimators=5000, min_child_weight=2, learning_rate=0.05, max_depth=3, reg_alpha=3) #L2 #reg_alpha=5 (L1)"
   ]
  },
  {
   "cell_type": "code",
   "execution_count": 10,
   "id": "a0d67102",
   "metadata": {},
   "outputs": [
    {
     "data": {
      "text/plain": [
       "XGBRegressor(base_score=0.5, booster='gbtree', callbacks=None,\n",
       "             colsample_bylevel=1, colsample_bynode=1, colsample_bytree=1,\n",
       "             early_stopping_rounds=None, enable_categorical=False,\n",
       "             eval_metric=None, gamma=0, gpu_id=-1, grow_policy='depthwise',\n",
       "             importance_type=None, interaction_constraints='',\n",
       "             learning_rate=0.05, max_bin=256, max_cat_to_onehot=4,\n",
       "             max_delta_step=0, max_depth=3, max_leaves=0, min_child_weight=2,\n",
       "             missing=nan, monotone_constraints='()', n_estimators=5000,\n",
       "             n_jobs=0, num_parallel_tree=1, predictor='auto', random_state=0,\n",
       "             reg_alpha=3, reg_lambda=1, ...)"
      ]
     },
     "execution_count": 10,
     "metadata": {},
     "output_type": "execute_result"
    }
   ],
   "source": [
    "XGBR.fit(X_train,y_train)"
   ]
  },
  {
   "cell_type": "code",
   "execution_count": 11,
   "id": "9bf5d154",
   "metadata": {
    "scrolled": true
   },
   "outputs": [],
   "source": [
    "hit=float(0)\n",
    "y_pred = XGBR.predict(X_test)\n",
    "total=float(len(y_pred))\n",
    "a=y_pred.tolist()\n",
    "b=y_test.tolist()\n",
    "y_pred = XGBR.predict(input)\n",
    "\n"
   ]
  },
  {
   "cell_type": "code",
   "execution_count": 12,
   "id": "8f59bcf5",
   "metadata": {},
   "outputs": [
    {
     "data": {
      "text/plain": [
       "0.6806234127291387"
      ]
     },
     "execution_count": 12,
     "metadata": {},
     "output_type": "execute_result"
    }
   ],
   "source": [
    "XGBR.score(X_test,y_test)"
   ]
  },
  {
   "cell_type": "code",
   "execution_count": 13,
   "id": "700feae0",
   "metadata": {},
   "outputs": [
    {
     "name": "stdout",
     "output_type": "stream",
     "text": [
      "[*********************100%***********************]  1 of 1 completed\n",
      "input : [[1.48970001e+02 1.50279999e+02 1.47429993e+02 7.33741000e+07]\n",
      " [1.55080002e+02 1.55449997e+02 1.49130005e+02 8.03793000e+07]\n",
      " [1.38500000e+02 1.38550003e+02 1.34589996e+02 7.49178000e+07]] , Predicted : 145.571 \n"
     ]
    },
    {
     "data": {
      "text/plain": [
       "4.183784484863281"
      ]
     },
     "execution_count": 13,
     "metadata": {},
     "output_type": "execute_result"
    }
   ],
   "source": [
    "data2=pdr.get_data_yahoo(\"AAPL\", start=\"2022-11-16\", end=\"2022-11-18\")\n",
    "Op=np.array(data2[\"Open\"])\n",
    "Hi=np.array(data2[\"High\"])\n",
    "Lo=np.array(data2[\"Low\"])\n",
    "Cl=np.array(data2[\"Close\"])\n",
    "Adj=np.array(data2[\"Adj Close\"])\n",
    "V=np.array(data2[\"Volume\"])\n",
    "\n",
    "realvalue = Adj\n",
    "print(\"input : %s , Predicted : %.3f \" % (X_test,y_pred[9]))\n",
    "\n",
    "\n",
    "mean_absolute_error(Adj,y_pred[:len(Adj)])"
   ]
  },
  {
   "cell_type": "code",
   "execution_count": 14,
   "id": "25840056",
   "metadata": {
    "scrolled": true
   },
   "outputs": [
    {
     "name": "stdout",
     "output_type": "stream",
     "text": [
      "[145.57121 145.57121]\n"
     ]
    }
   ],
   "source": [
    "print(y_pred[:len(Adj)])"
   ]
  },
  {
   "cell_type": "code",
   "execution_count": 15,
   "id": "8f51531c",
   "metadata": {
    "scrolled": true
   },
   "outputs": [
    {
     "name": "stdout",
     "output_type": "stream",
     "text": [
      "[148.78999329 150.72000122]\n"
     ]
    }
   ],
   "source": [
    "print(Adj)"
   ]
  },
  {
   "cell_type": "code",
   "execution_count": 16,
   "id": "aaadf80b",
   "metadata": {},
   "outputs": [
    {
     "data": {
      "text/plain": [
       "array([[1.        , 0.99204304],\n",
       "       [0.99204304, 1.        ]])"
      ]
     },
     "execution_count": 16,
     "metadata": {},
     "output_type": "execute_result"
    }
   ],
   "source": [
    "np.corrcoef(XGBR.predict(X_test),y_test)"
   ]
  }
 ],
 "metadata": {
  "kernelspec": {
   "display_name": "Python 3 (ipykernel)",
   "language": "python",
   "name": "python3"
  },
  "language_info": {
   "codemirror_mode": {
    "name": "ipython",
    "version": 3
   },
   "file_extension": ".py",
   "mimetype": "text/x-python",
   "name": "python",
   "nbconvert_exporter": "python",
   "pygments_lexer": "ipython3",
   "version": "3.9.12"
  }
 },
 "nbformat": 4,
 "nbformat_minor": 5
}
